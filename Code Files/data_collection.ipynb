{
 "cells": [
  {
   "cell_type": "code",
   "execution_count": 1,
   "id": "7b6935d2",
   "metadata": {},
   "outputs": [],
   "source": [
    "%load_ext autoreload\n",
    "%autoreload 1\n",
    "%aimport redditClient"
   ]
  },
  {
   "cell_type": "code",
   "execution_count": 2,
   "id": "230be473",
   "metadata": {},
   "outputs": [],
   "source": [
    "from redditClient import redditClient\n",
    "import praw\n",
    "import pandas as pd\n",
    "from datetime import datetime, timedelta\n",
    "import warnings\n",
    "warnings.filterwarnings('ignore')"
   ]
  },
  {
   "cell_type": "code",
   "execution_count": 3,
   "id": "ba542d21",
   "metadata": {},
   "outputs": [
    {
     "name": "stdout",
     "output_type": "stream",
     "text": [
      "param_kasana\n"
     ]
    }
   ],
   "source": [
    "# subreddit name we interested in getting the hot submissions\n",
    "subreddit_name = 'financialindependence'\n",
    "\n",
    "# construct Reddit client\n",
    "client = redditClient()\n",
    "\n",
    "# specify which subreddit we are interested in\n",
    "subreddit = client.subreddit(subreddit_name)\n",
    "\n",
    "# sanity check, you should see your own username printed out\n",
    "print(client.user.me())"
   ]
  },
  {
   "cell_type": "code",
   "execution_count": 4,
   "id": "80bace93",
   "metadata": {
    "scrolled": true
   },
   "outputs": [],
   "source": [
    "# Calculate the start and end timestamps for the past month\n",
    "end_timestamp = int(datetime.now().timestamp())  # Current timestamp\n",
    "start_timestamp = int((datetime.now() - timedelta(days=30)).timestamp())  # 30 days ago\n",
    "\n",
    "# Create a DataFrame to store the data\n",
    "data = {'post_title': [], 'post_body': [], 'comment': [], 'comment_author': [], 'timestamp': []}\n",
    "df = pd.DataFrame(data)\n",
    "\n",
    "# Loop through Reddit data within the specified time frame\n",
    "for submission in subreddit.hot(limit=None):\n",
    "    if start_timestamp <= submission.created_utc <= end_timestamp:\n",
    "        post_title = submission.title\n",
    "        timestamp = pd.to_datetime(submission.created_utc, unit='s')  # Convert to correct timestamp format\n",
    "        post_body = submission.selftext  # Get the post body\n",
    "        submission.comments.replace_more(limit=None)  # Retrieve all comments, including 'MoreComments'\n",
    "        for comment in submission.comments.list():\n",
    "            if hasattr(comment, 'author') and comment.author:  # Check for 'author' attribute\n",
    "                comment_text = comment.body\n",
    "                comment_author = comment.author.name\n",
    "\n",
    "                # Add data to the DataFrame\n",
    "                df = df.append({\n",
    "                    'post_title': post_title,\n",
    "                    'post_body': post_body,\n",
    "                    'comment': comment_text,\n",
    "                    'comment_author': comment_author,\n",
    "                    'timestamp': timestamp\n",
    "                }, ignore_index=True)\n",
    "                "
   ]
  },
  {
   "cell_type": "code",
   "execution_count": 5,
   "id": "69d74c73",
   "metadata": {},
   "outputs": [],
   "source": [
    "df.to_json('FIRE_raw_data.json', orient='records', lines=True)"
   ]
  }
 ],
 "metadata": {
  "kernelspec": {
   "display_name": "Python 3 (ipykernel)",
   "language": "python",
   "name": "python3"
  },
  "language_info": {
   "codemirror_mode": {
    "name": "ipython",
    "version": 3
   },
   "file_extension": ".py",
   "mimetype": "text/x-python",
   "name": "python",
   "nbconvert_exporter": "python",
   "pygments_lexer": "ipython3",
   "version": "3.11.3"
  }
 },
 "nbformat": 4,
 "nbformat_minor": 5
}
